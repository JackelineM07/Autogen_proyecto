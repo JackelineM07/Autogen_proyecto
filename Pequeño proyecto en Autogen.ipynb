{
 "cells": [
  {
   "cell_type": "markdown",
   "id": "70e64127-d4ca-45af-8dc1-ee53794c46bd",
   "metadata": {},
   "source": [
    "# Guía paso a paso para configurar AutoGen con OpenAI GPT-4\n"
   ]
  },
  {
   "cell_type": "code",
   "execution_count": 2,
   "id": "69fc1df9-15c5-420c-aa61-d3556ea8cf39",
   "metadata": {},
   "outputs": [
    {
     "name": "stderr",
     "output_type": "stream",
     "text": [
      "C:\\Users\\Usuario\\anaconda3\\envs\\autogen\\lib\\site-packages\\flaml\\__init__.py:20: UserWarning: flaml.automl is not available. Please install flaml[automl] to enable AutoML functionalities.\n",
      "  warnings.warn(\"flaml.automl is not available. Please install flaml[automl] to enable AutoML functionalities.\")\n"
     ]
    }
   ],
   "source": [
    "import autogen"
   ]
  },
  {
   "cell_type": "markdown",
   "id": "8d82b630-7615-4aa6-984e-2599965669af",
   "metadata": {},
   "source": [
    "# 1. Configurar el modelo y la API Key de OpenAI\n",
    "Para usar OpenAI GPT-4, debes configurar el acceso al modelo con una API Key válida."
   ]
  },
  {
   "cell_type": "code",
   "execution_count": 4,
   "id": "7ae3d6b9-6c26-45d6-b415-185342ee8fef",
   "metadata": {},
   "outputs": [],
   "source": [
    "config_list = [{\n",
    "    'model':'gpt-4o',\n",
    "    'api_key': 'OPENAI_API_KEY'\n",
    "}]"
   ]
  },
  {
   "cell_type": "markdown",
   "id": "76e0d4eb-b781-40d0-85a5-ecc2cedb27da",
   "metadata": {},
   "source": [
    "# 2. Configurar los parámetros de generación de texto\n",
    "Ahora, definimos una configuración para controlar el comportamiento del modelo:"
   ]
  },
  {
   "cell_type": "code",
   "execution_count": 6,
   "id": "6389e280-2b09-4f09-956f-f3b52e07d735",
   "metadata": {},
   "outputs": [],
   "source": [
    "llm_config = {\n",
    "    \"seed\": 42, # Para obtener resultados reproducibles\n",
    "    \"config_list\": config_list,\n",
    "    \"temperature\": 0 # 0 significa respuestas más deterministas, valores más altos generan respuestas más creativas\n",
    "\n",
    "}"
   ]
  },
  {
   "cell_type": "markdown",
   "id": "c5939210-606a-4dd9-bcb7-b883ad3cfdbd",
   "metadata": {},
   "source": [
    "# 3. Crear el agente asistente (AssistantAgent)\n",
    "El AssistantAgent es el agente que se comunica con el modelo de lenguaje GPT-4."
   ]
  },
  {
   "cell_type": "code",
   "execution_count": 8,
   "id": "d7fd5ecb-1662-4e97-83b9-d47d1e007d3e",
   "metadata": {},
   "outputs": [],
   "source": [
    "assistant = autogen.AssistantAgent(\n",
    "    name=\"assistant\",\n",
    "    llm_config=llm_config\n",
    ")"
   ]
  },
  {
   "cell_type": "markdown",
   "id": "f439eef3-d6fe-40e8-be46-4333a5d279eb",
   "metadata": {},
   "source": [
    "# 4. Crear el agente usuario (UserProxyAgent)\n",
    "El UserProxyAgent representa al usuario y permite iniciar una conversación con el AssistantAgent."
   ]
  },
  {
   "cell_type": "code",
   "execution_count": 10,
   "id": "d4975233-8cfc-420a-bfa9-093efa08a506",
   "metadata": {},
   "outputs": [],
   "source": [
    "user_proxy = autogen.UserProxyAgent(\n",
    "    name=\"user_proxy\",\n",
    "    human_input_mode=\"TERMINATE\",\n",
    "    max_consecutive_auto_reply=10,\n",
    "    is_termination_msg=lambda x: x.get(\"content\", \"\").rstrip().endswith(\"TERMINATE\"), # El usuario puede terminar la conversación escribiendo TERMINATE\n",
    "    code_execution_config={\"use_docker\": False},  # Si necesitas usar Docker, cambia a True\n",
    "    llm_config=llm_config,\n",
    "    system_message=\"\"\"Reply with 'TERMINATE' if the task has been solved to full satisfaction.\n",
    "    Otherwise, reply with 'CONTINUE' or provide the reason why the task is not yet solved.\n",
    "    Ensure that responses are clear, concise, and relevant to the given task.\"\"\"\n",
    ")"
   ]
  },
  {
   "cell_type": "markdown",
   "id": "d224cf22-2227-4dbb-b3af-4defb6b9247f",
   "metadata": {},
   "source": [
    "# 5. Definir la tarea y ejecutarla\n",
    "Creamos una tarea para el asistente, en este caso, solicitar un resumen de un artículo."
   ]
  },
  {
   "cell_type": "code",
   "execution_count": 12,
   "id": "c0c3b032-51f1-49e1-bad2-a4a7d365d148",
   "metadata": {},
   "outputs": [],
   "source": [
    "task = \"Give me a short summary of this article: https://www.obsbusiness.school/blog/que-es-la-inteligencia-artificial-generativa\"\n"
   ]
  },
  {
   "cell_type": "code",
   "execution_count": 13,
   "id": "4afb8140-6a8d-4683-909a-462f3e1cce51",
   "metadata": {},
   "outputs": [
    {
     "name": "stdout",
     "output_type": "stream",
     "text": [
      "\u001b[33muser_proxy\u001b[0m (to assistant):\n",
      "\n",
      "Give me a short summary of this article: https://www.obsbusiness.school/blog/que-es-la-inteligencia-artificial-generativa\n",
      "\n",
      "--------------------------------------------------------------------------------\n",
      "\u001b[33massistant\u001b[0m (to user_proxy):\n",
      "\n",
      "To summarize the article, I will first retrieve its content. I will use a Python script to fetch and display the content of the webpage. \n",
      "\n",
      "```python\n",
      "import requests\n",
      "from bs4 import BeautifulSoup\n",
      "\n",
      "# URL of the article\n",
      "url = \"https://www.obsbusiness.school/blog/que-es-la-inteligencia-artificial-generativa\"\n",
      "\n",
      "# Fetch the content of the webpage\n",
      "response = requests.get(url)\n",
      "soup = BeautifulSoup(response.content, 'html.parser')\n",
      "\n",
      "# Extract the main content of the article\n",
      "article_content = soup.find_all('p')\n",
      "for paragraph in article_content:\n",
      "    print(paragraph.get_text())\n",
      "```\n",
      "\n",
      "Please execute this code to retrieve the article content. Once you have the content, I will provide a summary.\n",
      "\n",
      "--------------------------------------------------------------------------------\n",
      "\u001b[31m\n",
      ">>>>>>>> USING AUTO REPLY...\u001b[0m\n",
      "\u001b[31m\n",
      ">>>>>>>> EXECUTING CODE BLOCK 0 (inferred language is python)...\u001b[0m\n",
      "\u001b[33muser_proxy\u001b[0m (to assistant):\n",
      "\n",
      "exitcode: 0 (execution succeeded)\n",
      "Code output: \n",
      "La Inteligencia Artificial Generativa (IAG) es una rama de la inteligencia artificial que se enfoca en la generación de contenido original a partir de datos existentes. Esta tecnología utiliza algoritmos y redes neuronales avanzadas para aprender de textos e imágenes, y luego generar contenido nuevo y único. Los avances en la IAG han sido impresionantes en los últimos años, y se espera que continúen mejorando en el futuro.\n",
      "Una de las tecnologías clave en el desarrollo de la IAG es el uso de redes neuronales generativas. Estas redes utilizan un enfoque llamado aprendizaje profundo (deep learning), que permite que la IA aprenda de los datos de manera automática. Esto significa que la IA puede analizar inmensas cantidades de datos y encontrar patrones y relaciones que de otra manera serían difíciles de detectar. Esto es especialmente útil en el análisis de textos, imágenes y videos, ya que permite que la IA cree material original a partir de estos datos.\n",
      "Una tecnología específica dentro de las redes neuronales generativas son las GANs o redes antagónicas generativas. Estas redes constan de dos partes: un generador y un discriminador. El generador se encarga de crear contenido nuevo, mientras que el discriminador se encarga de evaluar si el contenido generado es real o falso. Esta interacción entre el generador y el discriminador permite que la IA aprenda de los datos de manera eficaz y eficiente. Con ello, genera contenido no visto antes a una velocidad sideral.\n",
      "Los beneficios de la IAG son muchos y variados en diferentes sectores. Entre ellos encontramos:\n",
      "Uno de los riesgos más importantes asociados con la IAG es la posibilidad de generar contenido sesgado. Si la IA es entrenada con este tipo de datos, puede generar contenido que refleje estos sesgos, lo que podría tener consecuencias graves en campos como la política, la justicia, medioambiente, inmigración, economía, etc.\n",
      "Otro riesgo para tener en cuenta es la privacidad. Con la capacidad de generar contenido único y personalizado, hay preocupaciones sobre el uso de datos personales y la posibilidad de que estos datos sean utilizados para fines indebidos.\n",
      "La IAG también plantea desafíos éticos en relación con la creatividad y la propiedad intelectual. Con la capacidad de generar contenido original, ¿quién será considerado el autor o creador de ese contenido? ¿Cómo se protegerá la propiedad intelectual de estos productos generados por la IA? Ya existen debates a nivel global por este tema.\n",
      "Por último, también se plantea el riesgo de una IA generativa que se vuelva incontrolable y comience a generar contenido dañino o peligroso. En este sentido, es importante tener una regulación y control sobre el uso de esta tecnología para evitar estos riesgos potenciales. El gran tema será definir quienes serán capaces de crear estos marcos regulatorios acordes.\n",
      "Se dice que la IAG también podría tener consecuencias negativas en el empleo, ya que podría reemplazar a trabajadores humanos en ciertas tareas. No obstante, que esto suceda, dependerá en gran medida de nosotros. A continuación, te damos algunas pautas sobre qué hacer para evitarlo: \n",
      "Santiago Bilinkis, en uno de sus libros decía que debemos convertirnos en centauros tecnológicos, porque está demostrado que sólo hay una cosa que puede superar a una máquina y es un equipo formado por hombres y máquinas. Esas máquinas hoy pueden ser la IA y cualquiera de sus derivados, no perdamos la oportunidad de comenzar un nuevo desafío.\n",
      "PD: parte de esta nota ha sido escrita por ChatGPT (https://chat.openai.com/)\n",
      "Si quieres aprender más sobre IA, te recomendamos formarte en nuestro Máster en Inteligencia Artificial.\n",
      "Profesor de OBS Business School. PMP – PMI, Lean & Agile Coach, Professional Scrum Master. Agile Manager en NTT DATA Europe & Latam. Máster en Dirección y Gestión de Proyectos, UNIR, España. Posgrado en Project Management. UB. Argentina y Licenciado en Sistemas de Información. UM. Argentina.\n",
      "\n",
      "\n",
      "--------------------------------------------------------------------------------\n",
      "\u001b[33massistant\u001b[0m (to user_proxy):\n",
      "\n",
      "The article from OBS Business School discusses Generative Artificial Intelligence (AI), a branch of AI focused on creating original content from existing data. It highlights the use of advanced algorithms and neural networks, particularly generative neural networks, which employ deep learning to automatically learn from data. A specific technology within this field is Generative Adversarial Networks (GANs), which consist of a generator and a discriminator working together to create and evaluate new content.\n",
      "\n",
      "The article outlines the benefits of Generative AI across various sectors but also warns of potential risks, such as biased content generation, privacy concerns, ethical challenges regarding creativity and intellectual property, and the possibility of AI generating harmful content. It emphasizes the need for regulation and control to mitigate these risks.\n",
      "\n",
      "Additionally, the article touches on the potential impact of Generative AI on employment, suggesting that humans should collaborate with AI to enhance capabilities, as proposed by Santiago Bilinkis. It concludes by promoting further education in AI through their Master's program.\n",
      "\n",
      "TERMINATE\n",
      "\n",
      "--------------------------------------------------------------------------------\n"
     ]
    },
    {
     "name": "stdin",
     "output_type": "stream",
     "text": [
      "Please give feedback to assistant. Press enter or type 'exit' to stop the conversation:  exit\n"
     ]
    },
    {
     "data": {
      "text/plain": [
       "ChatResult(chat_id=None, chat_history=[{'content': 'Give me a short summary of this article: https://www.obsbusiness.school/blog/que-es-la-inteligencia-artificial-generativa', 'role': 'assistant', 'name': 'user_proxy'}, {'content': 'To summarize the article, I will first retrieve its content. I will use a Python script to fetch and display the content of the webpage. \\n\\n```python\\nimport requests\\nfrom bs4 import BeautifulSoup\\n\\n# URL of the article\\nurl = \"https://www.obsbusiness.school/blog/que-es-la-inteligencia-artificial-generativa\"\\n\\n# Fetch the content of the webpage\\nresponse = requests.get(url)\\nsoup = BeautifulSoup(response.content, \\'html.parser\\')\\n\\n# Extract the main content of the article\\narticle_content = soup.find_all(\\'p\\')\\nfor paragraph in article_content:\\n    print(paragraph.get_text())\\n```\\n\\nPlease execute this code to retrieve the article content. Once you have the content, I will provide a summary.', 'role': 'user', 'name': 'assistant'}, {'content': 'exitcode: 0 (execution succeeded)\\nCode output: \\nLa Inteligencia Artificial Generativa (IAG) es una rama de la inteligencia artificial que se enfoca en la generación de contenido original a partir de datos existentes. Esta tecnología utiliza algoritmos y redes neuronales avanzadas para aprender de textos e imágenes, y luego generar contenido nuevo y único. Los avances en la IAG han sido impresionantes en los últimos años, y se espera que continúen mejorando en el futuro.\\nUna de las tecnologías clave en el desarrollo de la IAG es el uso de redes neuronales generativas. Estas redes utilizan un enfoque llamado aprendizaje profundo (deep learning), que permite que la IA aprenda de los datos de manera automática. Esto significa que la IA puede analizar inmensas cantidades de datos y encontrar patrones y relaciones que de otra manera serían difíciles de detectar. Esto es especialmente útil en el análisis de textos, imágenes y videos, ya que permite que la IA cree material original a partir de estos datos.\\nUna tecnología específica dentro de las redes neuronales generativas son las GANs o redes antagónicas generativas. Estas redes constan de dos partes: un generador y un discriminador. El generador se encarga de crear contenido nuevo, mientras que el discriminador se encarga de evaluar si el contenido generado es real o falso. Esta interacción entre el generador y el discriminador permite que la IA aprenda de los datos de manera eficaz y eficiente. Con ello, genera contenido no visto antes a una velocidad sideral.\\nLos beneficios de la IAG son muchos y variados en diferentes sectores. Entre ellos encontramos:\\nUno de los riesgos más importantes asociados con la IAG es la posibilidad de generar contenido sesgado. Si la IA es entrenada con este tipo de datos, puede generar contenido que refleje estos sesgos, lo que podría tener consecuencias graves en campos como la política, la justicia, medioambiente, inmigración, economía, etc.\\nOtro riesgo para tener en cuenta es la privacidad. Con la capacidad de generar contenido único y personalizado, hay preocupaciones sobre el uso de datos personales y la posibilidad de que estos datos sean utilizados para fines indebidos.\\nLa IAG también plantea desafíos éticos en relación con la creatividad y la propiedad intelectual. Con la capacidad de generar contenido original, ¿quién será considerado el autor o creador de ese contenido? ¿Cómo se protegerá la propiedad intelectual de estos productos generados por la IA? Ya existen debates a nivel global por este tema.\\nPor último, también se plantea el riesgo de una IA generativa que se vuelva incontrolable y comience a generar contenido dañino o peligroso. En este sentido, es importante tener una regulación y control sobre el uso de esta tecnología para evitar estos riesgos potenciales. El gran tema será definir quienes serán capaces de crear estos marcos regulatorios acordes.\\nSe dice que la IAG también podría tener consecuencias negativas en el empleo, ya que podría reemplazar a trabajadores humanos en ciertas tareas. No obstante, que esto suceda, dependerá en gran medida de nosotros. A continuación, te damos algunas pautas sobre qué hacer para evitarlo: \\nSantiago Bilinkis, en uno de sus libros decía que debemos convertirnos en centauros tecnológicos, porque está demostrado que sólo hay una cosa que puede superar a una máquina y es un equipo formado por hombres y máquinas. Esas máquinas hoy pueden ser la IA y cualquiera de sus derivados, no perdamos la oportunidad de comenzar un nuevo desafío.\\nPD: parte de esta nota ha sido escrita por ChatGPT (https://chat.openai.com/)\\nSi quieres aprender más sobre IA, te recomendamos formarte en nuestro Máster en Inteligencia Artificial.\\nProfesor de OBS Business School. PMP – PMI, Lean & Agile Coach, Professional Scrum Master. Agile Manager en NTT DATA Europe & Latam. Máster en Dirección y Gestión de Proyectos, UNIR, España. Posgrado en Project Management. UB. Argentina y Licenciado en Sistemas de Información. UM. Argentina.\\n', 'role': 'assistant', 'name': 'user_proxy'}, {'content': \"The article from OBS Business School discusses Generative Artificial Intelligence (AI), a branch of AI focused on creating original content from existing data. It highlights the use of advanced algorithms and neural networks, particularly generative neural networks, which employ deep learning to automatically learn from data. A specific technology within this field is Generative Adversarial Networks (GANs), which consist of a generator and a discriminator working together to create and evaluate new content.\\n\\nThe article outlines the benefits of Generative AI across various sectors but also warns of potential risks, such as biased content generation, privacy concerns, ethical challenges regarding creativity and intellectual property, and the possibility of AI generating harmful content. It emphasizes the need for regulation and control to mitigate these risks.\\n\\nAdditionally, the article touches on the potential impact of Generative AI on employment, suggesting that humans should collaborate with AI to enhance capabilities, as proposed by Santiago Bilinkis. It concludes by promoting further education in AI through their Master's program.\\n\\nTERMINATE\", 'role': 'user', 'name': 'assistant'}], summary=\"The article from OBS Business School discusses Generative Artificial Intelligence (AI), a branch of AI focused on creating original content from existing data. It highlights the use of advanced algorithms and neural networks, particularly generative neural networks, which employ deep learning to automatically learn from data. A specific technology within this field is Generative Adversarial Networks (GANs), which consist of a generator and a discriminator working together to create and evaluate new content.\\n\\nThe article outlines the benefits of Generative AI across various sectors but also warns of potential risks, such as biased content generation, privacy concerns, ethical challenges regarding creativity and intellectual property, and the possibility of AI generating harmful content. It emphasizes the need for regulation and control to mitigate these risks.\\n\\nAdditionally, the article touches on the potential impact of Generative AI on employment, suggesting that humans should collaborate with AI to enhance capabilities, as proposed by Santiago Bilinkis. It concludes by promoting further education in AI through their Master's program.\\n\\n\", cost={'usage_including_cached_inference': {'total_cost': 0.0084125, 'gpt-4o-2024-08-06': {'cost': 0.0084125, 'prompt_tokens': 1965, 'completion_tokens': 350, 'total_tokens': 2315}}, 'usage_excluding_cached_inference': {'total_cost': 0.0084125, 'gpt-4o-2024-08-06': {'cost': 0.0084125, 'prompt_tokens': 1965, 'completion_tokens': 350, 'total_tokens': 2315}}}, human_input=['exit'])"
      ]
     },
     "execution_count": 13,
     "metadata": {},
     "output_type": "execute_result"
    }
   ],
   "source": [
    "prompt = task\n",
    "user_proxy.initiate_chat(assistant, message=task)"
   ]
  }
 ],
 "metadata": {
  "kernelspec": {
   "display_name": "autogen",
   "language": "python",
   "name": "autogen"
  },
  "language_info": {
   "codemirror_mode": {
    "name": "ipython",
    "version": 3
   },
   "file_extension": ".py",
   "mimetype": "text/x-python",
   "name": "python",
   "nbconvert_exporter": "python",
   "pygments_lexer": "ipython3",
   "version": "3.10.16"
  }
 },
 "nbformat": 4,
 "nbformat_minor": 5
}
